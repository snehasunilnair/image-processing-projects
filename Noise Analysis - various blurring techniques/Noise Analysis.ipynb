{
 "cells": [
  {
   "cell_type": "code",
   "execution_count": 1,
   "source": [
    "import cv2\r\n",
    "import numpy as np\r\n",
    "\r\n",
    "img = cv2.imread(\"balloon.png\")\r\n",
    "\r\n",
    "averaging = cv2.blur(img, (21, 21))\r\n",
    "gaussian = cv2.GaussianBlur(img, (21, 21), 0)\r\n",
    "median = cv2.medianBlur(img, 5)\r\n",
    "bilateral = cv2.bilateralFilter(img, 9, 350, 350)\r\n",
    "\r\n",
    "cv2.imshow(\"Original image\", img)\r\n",
    "cv2.imshow(\"Averaging\", averaging)\r\n",
    "cv2.imshow(\"Gaussian\", gaussian)\r\n",
    "cv2.imshow(\"Median\", median)\r\n",
    "cv2.imshow(\"Bilateral\", bilateral)\r\n",
    "\r\n",
    "cv2.waitKey(0)\r\n",
    "cv2.destroyAllWindows()"
   ],
   "outputs": [],
   "metadata": {}
  },
  {
   "cell_type": "code",
   "execution_count": 14,
   "source": [
    "img.shape"
   ],
   "outputs": [
    {
     "output_type": "execute_result",
     "data": {
      "text/plain": [
       "(480, 640, 3)"
      ]
     },
     "metadata": {},
     "execution_count": 14
    }
   ],
   "metadata": {}
  }
 ],
 "metadata": {
  "kernelspec": {
   "display_name": "Python 3",
   "language": "python",
   "name": "python3"
  },
  "language_info": {
   "codemirror_mode": {
    "name": "ipython",
    "version": 3
   },
   "file_extension": ".py",
   "mimetype": "text/x-python",
   "name": "python",
   "nbconvert_exporter": "python",
   "pygments_lexer": "ipython3",
   "version": "3.8.3"
  }
 },
 "nbformat": 4,
 "nbformat_minor": 4
}