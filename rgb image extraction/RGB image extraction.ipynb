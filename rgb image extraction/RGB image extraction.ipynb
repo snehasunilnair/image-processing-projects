{
 "cells": [
  {
   "cell_type": "code",
   "execution_count": 2,
   "metadata": {},
   "outputs": [],
   "source": [
    "import cv2\n",
    "import numpy as np\n",
    "img = cv2.imread(\"rgb.jpeg\",1)\n",
    "img =cv2.resize(img, (1280, 720))\n",
    "cv2.imshow('rgb',img)\n",
    "cv2.waitKey(0)\n",
    "cv2.destroyAllWindows()"
   ]
  },
  {
   "cell_type": "code",
   "execution_count": 3,
   "metadata": {},
   "outputs": [
    {
     "data": {
      "text/plain": [
       "(720, 1280, 3)"
      ]
     },
     "execution_count": 3,
     "metadata": {},
     "output_type": "execute_result"
    }
   ],
   "source": [
    "img.shape"
   ]
  },
  {
   "cell_type": "markdown",
   "metadata": {},
   "source": [
    "# Blue Image"
   ]
  },
  {
   "cell_type": "code",
   "execution_count": 9,
   "metadata": {},
   "outputs": [],
   "source": [
    "b, g, r = cv2.split(img)\n",
    "\n",
    "zeros_ch = np.zeros(img.shape[0:2], dtype=\"uint8\")\n",
    "blue_img = cv2.merge([b, zeros_ch, zeros_ch])\n",
    "cv2.imshow(\"Blue Image\", blue_img)\n",
    "cv2.waitKey(0)\n",
    "cv2.destroyAllWindows()"
   ]
  },
  {
   "cell_type": "markdown",
   "metadata": {},
   "source": [
    "# Green Image"
   ]
  },
  {
   "cell_type": "code",
   "execution_count": 10,
   "metadata": {},
   "outputs": [],
   "source": [
    "green_img = cv2.merge([zeros_ch, g, zeros_ch])\n",
    "cv2.imshow(\"Green Image\", green_img)\n",
    "cv2.waitKey(0)\n",
    "cv2.destroyAllWindows()"
   ]
  },
  {
   "cell_type": "markdown",
   "metadata": {},
   "source": [
    "# Red Image"
   ]
  },
  {
   "cell_type": "code",
   "execution_count": 11,
   "metadata": {},
   "outputs": [],
   "source": [
    "red_img = cv2.merge([zeros_ch, zeros_ch, r])\n",
    "cv2.imshow(\"Red Image\", red_img)\n",
    "cv2.waitKey(0)\n",
    "cv2.destroyAllWindows()"
   ]
  },
  {
   "cell_type": "markdown",
   "metadata": {},
   "source": [
    "# Show Image using index splitting and 4 images in one window"
   ]
  },
  {
   "cell_type": "code",
   "execution_count": 12,
   "metadata": {},
   "outputs": [],
   "source": [
    "img = cv2.resize(img, (400,300))\n",
    "\n",
    "red_array =np.zeros(img.shape, dtype=\"uint8\")\n",
    "red_array[:,:,2] = img[:,:,2]\n",
    "\n",
    "green_array =np.zeros(img.shape, dtype=\"uint8\")\n",
    "green_array[:,:,1] = img[:,:,1]\n",
    "\n",
    "blue_array =np.zeros(img.shape, dtype=\"uint8\")\n",
    "blue_array[:,:,0] = img[:,:,0]\n",
    "\n",
    "ht1 = np.hstack((img, red_array))\n",
    "ht2 = np.hstack((green_array, blue_array))\n",
    "img_4 = np.vstack((ht1,ht2)) \n",
    "\n",
    "cv2.imshow(\"4 images together\", img_4)\n",
    "cv2.waitKey(0)\n",
    "cv2.destroyAllWindows()"
   ]
  },
  {
   "cell_type": "markdown",
   "metadata": {},
   "source": [
    "# Extract the rgb values"
   ]
  },
  {
   "cell_type": "code",
   "execution_count": 28,
   "metadata": {},
   "outputs": [
    {
     "name": "stdout",
     "output_type": "stream",
     "text": [
      "R = 5, G = 4, B = 74\n"
     ]
    }
   ],
   "source": [
    "(B, G, R) = img[100, 100]\n",
    "  \n",
    "# Displaying the pixel values\n",
    "print(\"R = {}, G = {}, B = {}\".format(R, G, B))"
   ]
  },
  {
   "cell_type": "code",
   "execution_count": null,
   "metadata": {},
   "outputs": [],
   "source": []
  }
 ],
 "metadata": {
  "kernelspec": {
   "display_name": "Python 3",
   "language": "python",
   "name": "python3"
  },
  "language_info": {
   "codemirror_mode": {
    "name": "ipython",
    "version": 3
   },
   "file_extension": ".py",
   "mimetype": "text/x-python",
   "name": "python",
   "nbconvert_exporter": "python",
   "pygments_lexer": "ipython3",
   "version": "3.8.3"
  }
 },
 "nbformat": 4,
 "nbformat_minor": 4
}
